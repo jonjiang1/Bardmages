{
  "nbformat": 4,
  "nbformat_minor": 0,
  "metadata": {
    "colab": {
      "provenance": [],
      "authorship_tag": "ABX9TyPrUJJO29rE/Ac5KNRx1jAF",
      "include_colab_link": true
    },
    "kernelspec": {
      "name": "python3",
      "display_name": "Python 3"
    },
    "language_info": {
      "name": "python"
    }
  },
  "cells": [
    {
      "cell_type": "markdown",
      "metadata": {
        "id": "view-in-github",
        "colab_type": "text"
      },
      "source": [
        "<a href=\"https://colab.research.google.com/github/jonjiang1/Bardmages/blob/master/VSA_Evaluation_POC.ipynb\" target=\"_parent\"><img src=\"https://colab.research.google.com/assets/colab-badge.svg\" alt=\"Open In Colab\"/></a>"
      ]
    },
    {
      "cell_type": "code",
      "execution_count": 1,
      "metadata": {
        "colab": {
          "base_uri": "https://localhost:8080/"
        },
        "id": "lFnofRrxvjdA",
        "outputId": "ae009e23-fbbe-45b4-e8d7-5d4374efb22d"
      },
      "outputs": [
        {
          "output_type": "stream",
          "name": "stderr",
          "text": [
            "[nltk_data] Downloading package wordnet to /root/nltk_data...\n"
          ]
        }
      ],
      "source": [
        "import nltk # nltk has both BLEU and METEOR (but not ROUGE)\n",
        "nltk.download('wordnet')\n",
        "from nltk.translate.bleu_score import sentence_bleu, corpus_bleu\n",
        "from nltk.translate.meteor_score import meteor_score"
      ]
    },
    {
      "cell_type": "markdown",
      "source": [
        "NLTK Documentation for BLEU and METEOR is found at:\n",
        "\n",
        "https://www.nltk.org/api/nltk.translate.bleu_score.html#module-nltk.translate.bleu_score\n",
        "\n",
        "https://www.nltk.org/api/nltk.translate.meteor_score.html#module-nltk.translate.meteor_score"
      ],
      "metadata": {
        "id": "vwj5zxh2BWgQ"
      }
    },
    {
      "cell_type": "code",
      "source": [
        "refText1 = \"Sadly, Pachirisu is one of the poorer Pokemon in the game and stat-wise it's not very good at all. The combination of high Speed and Special Defense isn't very helpful; though it can help score a quick status-move (or Super Fang) on walls.\".split()\n",
        "refText2 = \"Unfortunately, Pachirisu is not as good as other Pokemon in the game and has not very good stats. Having high Speed and Special Defence isn't very useful; though it can help surprise opponents with a quick status-move or Super Fang on walls.\".split()\n",
        "references = [refText1, refText2]\n",
        "\n",
        "hypothesisText = \"You think Pachirisu is not as good but really Pachirisu is a top tier Pokemon because it was used to win Worlds 2014 by Se-Jun Park. Your argument is invalid.\".split()\n",
        "\n",
        "# Reference and hypothesis texts must be arrays of strings. It'll be easier to generate this with String.split since the methods have built in lemmatizers\n",
        "print(f'BLEU Score: {sentence_bleu(references, hypothesisText)}')\n",
        "print(f'METEOR Score: {meteor_score(references, hypothesisText)}')"
      ],
      "metadata": {
        "colab": {
          "base_uri": "https://localhost:8080/"
        },
        "id": "oLj8jQBdBHUa",
        "outputId": "4595ac87-9c13-4fd2-bdc1-187d05d927ce"
      },
      "execution_count": 2,
      "outputs": [
        {
          "output_type": "stream",
          "name": "stdout",
          "text": [
            "BLEU Score: 0.08761879020801992\n",
            "METEOR Score: 0.09803921568627451\n"
          ]
        }
      ]
    },
    {
      "cell_type": "code",
      "source": [
        "pip install pytorch-ignite"
      ],
      "metadata": {
        "colab": {
          "base_uri": "https://localhost:8080/"
        },
        "id": "I4MNGz8WPZcL",
        "outputId": "9d9a9615-5fc1-4471-f915-9b95ad40434d"
      },
      "execution_count": 4,
      "outputs": [
        {
          "output_type": "stream",
          "name": "stdout",
          "text": [
            "Collecting pytorch-ignite\n",
            "  Downloading pytorch_ignite-0.5.1-py3-none-any.whl.metadata (27 kB)\n",
            "Requirement already satisfied: torch<3,>=1.3 in /usr/local/lib/python3.11/dist-packages (from pytorch-ignite) (2.5.1+cu121)\n",
            "Requirement already satisfied: packaging in /usr/local/lib/python3.11/dist-packages (from pytorch-ignite) (24.2)\n",
            "Requirement already satisfied: filelock in /usr/local/lib/python3.11/dist-packages (from torch<3,>=1.3->pytorch-ignite) (3.17.0)\n",
            "Requirement already satisfied: typing-extensions>=4.8.0 in /usr/local/lib/python3.11/dist-packages (from torch<3,>=1.3->pytorch-ignite) (4.12.2)\n",
            "Requirement already satisfied: networkx in /usr/local/lib/python3.11/dist-packages (from torch<3,>=1.3->pytorch-ignite) (3.4.2)\n",
            "Requirement already satisfied: jinja2 in /usr/local/lib/python3.11/dist-packages (from torch<3,>=1.3->pytorch-ignite) (3.1.5)\n",
            "Requirement already satisfied: fsspec in /usr/local/lib/python3.11/dist-packages (from torch<3,>=1.3->pytorch-ignite) (2024.10.0)\n",
            "Requirement already satisfied: nvidia-cuda-nvrtc-cu12==12.1.105 in /usr/local/lib/python3.11/dist-packages (from torch<3,>=1.3->pytorch-ignite) (12.1.105)\n",
            "Requirement already satisfied: nvidia-cuda-runtime-cu12==12.1.105 in /usr/local/lib/python3.11/dist-packages (from torch<3,>=1.3->pytorch-ignite) (12.1.105)\n",
            "Requirement already satisfied: nvidia-cuda-cupti-cu12==12.1.105 in /usr/local/lib/python3.11/dist-packages (from torch<3,>=1.3->pytorch-ignite) (12.1.105)\n",
            "Requirement already satisfied: nvidia-cudnn-cu12==9.1.0.70 in /usr/local/lib/python3.11/dist-packages (from torch<3,>=1.3->pytorch-ignite) (9.1.0.70)\n",
            "Requirement already satisfied: nvidia-cublas-cu12==12.1.3.1 in /usr/local/lib/python3.11/dist-packages (from torch<3,>=1.3->pytorch-ignite) (12.1.3.1)\n",
            "Requirement already satisfied: nvidia-cufft-cu12==11.0.2.54 in /usr/local/lib/python3.11/dist-packages (from torch<3,>=1.3->pytorch-ignite) (11.0.2.54)\n",
            "Requirement already satisfied: nvidia-curand-cu12==10.3.2.106 in /usr/local/lib/python3.11/dist-packages (from torch<3,>=1.3->pytorch-ignite) (10.3.2.106)\n",
            "Requirement already satisfied: nvidia-cusolver-cu12==11.4.5.107 in /usr/local/lib/python3.11/dist-packages (from torch<3,>=1.3->pytorch-ignite) (11.4.5.107)\n",
            "Requirement already satisfied: nvidia-cusparse-cu12==12.1.0.106 in /usr/local/lib/python3.11/dist-packages (from torch<3,>=1.3->pytorch-ignite) (12.1.0.106)\n",
            "Requirement already satisfied: nvidia-nccl-cu12==2.21.5 in /usr/local/lib/python3.11/dist-packages (from torch<3,>=1.3->pytorch-ignite) (2.21.5)\n",
            "Requirement already satisfied: nvidia-nvtx-cu12==12.1.105 in /usr/local/lib/python3.11/dist-packages (from torch<3,>=1.3->pytorch-ignite) (12.1.105)\n",
            "Requirement already satisfied: triton==3.1.0 in /usr/local/lib/python3.11/dist-packages (from torch<3,>=1.3->pytorch-ignite) (3.1.0)\n",
            "Requirement already satisfied: sympy==1.13.1 in /usr/local/lib/python3.11/dist-packages (from torch<3,>=1.3->pytorch-ignite) (1.13.1)\n",
            "Requirement already satisfied: nvidia-nvjitlink-cu12 in /usr/local/lib/python3.11/dist-packages (from nvidia-cusolver-cu12==11.4.5.107->torch<3,>=1.3->pytorch-ignite) (12.8.61)\n",
            "Requirement already satisfied: mpmath<1.4,>=1.1.0 in /usr/local/lib/python3.11/dist-packages (from sympy==1.13.1->torch<3,>=1.3->pytorch-ignite) (1.3.0)\n",
            "Requirement already satisfied: MarkupSafe>=2.0 in /usr/local/lib/python3.11/dist-packages (from jinja2->torch<3,>=1.3->pytorch-ignite) (3.0.2)\n",
            "Downloading pytorch_ignite-0.5.1-py3-none-any.whl (312 kB)\n",
            "\u001b[2K   \u001b[90m━━━━━━━━━━━━━━━━━━━━━━━━━━━━━━━━━━━━━━━━\u001b[0m \u001b[32m312.7/312.7 kB\u001b[0m \u001b[31m6.3 MB/s\u001b[0m eta \u001b[36m0:00:00\u001b[0m\n",
            "\u001b[?25hInstalling collected packages: pytorch-ignite\n",
            "Successfully installed pytorch-ignite-0.5.1\n"
          ]
        }
      ]
    },
    {
      "cell_type": "code",
      "source": [
        "from ignite.metrics import Rouge\n",
        "from ignite.metrics.nlp import Bleu\n",
        "\n",
        "mRouge = Rouge()\n",
        "mRouge.update(([hypothesisText], [references]))\n",
        "\n",
        "mBleu = Bleu()\n",
        "mBleu.update(([hypothesisText], [references]))\n",
        "\n",
        "print(mRouge.compute())\n",
        "print(mBleu.compute())"
      ],
      "metadata": {
        "colab": {
          "base_uri": "https://localhost:8080/"
        },
        "id": "ntN8f8BTJoSI",
        "outputId": "de6d7652-a15e-4674-e407-28832937ea06"
      },
      "execution_count": 6,
      "outputs": [
        {
          "output_type": "stream",
          "name": "stdout",
          "text": [
            "{'Rouge-1-P': 0.25, 'Rouge-1-R': 0.17647058823529413, 'Rouge-1-F': 0.17647058823529413, 'Rouge-2-P': 0.08620689655172414, 'Rouge-2-R': 0.060240963855421686, 'Rouge-2-F': 0.06024096385542168, 'Rouge-4-P': 0.037037037037037035, 'Rouge-4-R': 0.02531645569620253, 'Rouge-4-F': 0.02531645569620253, 'Rouge-L-P': 0.2, 'Rouge-L-R': 0.1411764705882353, 'Rouge-L-F': 0.1411764705882353}\n",
            "tensor(0.0876, dtype=torch.float64)\n"
          ]
        }
      ]
    }
  ]
}